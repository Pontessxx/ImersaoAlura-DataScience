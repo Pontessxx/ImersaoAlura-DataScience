{
 "cells": [
  {
   "cell_type": "markdown",
   "metadata": {},
   "source": [
    "# Importando as bibiotecas\n",
    "neste notebook iremos criar dashboard usando python e aplicaremos o Data Sciente"
   ]
  },
  {
   "cell_type": "code",
   "execution_count": 1,
   "metadata": {},
   "outputs": [],
   "source": [
    "import pandas as pd\n",
    "import numpy as np\n",
    "import seaborn as sns\n",
    "import matplotlib.pyplot as plt"
   ]
  },
  {
   "cell_type": "code",
   "execution_count": 2,
   "metadata": {},
   "outputs": [],
   "source": [
    "dados = pd.read_csv('./Dados_Imersão.csv') #importando a plhanilha do dados .csv\n",
    "avaliacoes = pd.read_csv('./Avaliacoes_imersao.csv') #importando a planilha de avaliacoes .csv"
   ]
  },
  {
   "cell_type": "markdown",
   "metadata": {},
   "source": [
    "#### dados.head()\n",
    "pega a variavel que contem o csv e imprime os primeiros 5 itens, caso coloque numeros dentro do .heade(10) exbirá a quantidade de itens selecionada"
   ]
  },
  {
   "cell_type": "code",
   "execution_count": 5,
   "metadata": {},
   "outputs": [
    {
     "data": {
      "text/html": [
       "<div>\n",
       "<style scoped>\n",
       "    .dataframe tbody tr th:only-of-type {\n",
       "        vertical-align: middle;\n",
       "    }\n",
       "\n",
       "    .dataframe tbody tr th {\n",
       "        vertical-align: top;\n",
       "    }\n",
       "\n",
       "    .dataframe thead th {\n",
       "        text-align: right;\n",
       "    }\n",
       "</style>\n",
       "<table border=\"1\" class=\"dataframe\">\n",
       "  <thead>\n",
       "    <tr style=\"text-align: right;\">\n",
       "      <th></th>\n",
       "      <th>product_id</th>\n",
       "      <th>product_name</th>\n",
       "      <th>category</th>\n",
       "      <th>category_geral</th>\n",
       "      <th>subcategory</th>\n",
       "      <th>actual_price</th>\n",
       "      <th>product_price</th>\n",
       "      <th>percent</th>\n",
       "      <th>actual_price_real</th>\n",
       "      <th>rating</th>\n",
       "      <th>rating_count</th>\n",
       "      <th>about_product</th>\n",
       "      <th>product_link</th>\n",
       "      <th>titulo</th>\n",
       "      <th>review</th>\n",
       "    </tr>\n",
       "  </thead>\n",
       "  <tbody>\n",
       "    <tr>\n",
       "      <th>0</th>\n",
       "      <td>B07JW9H4J1</td>\n",
       "      <td>Wayona Nylon Braided USB to Lightning Fast Cha...</td>\n",
       "      <td>Computers&amp;Accessories|Accessories&amp;Peripherals|...</td>\n",
       "      <td>Computers&amp;Accessories</td>\n",
       "      <td>Accessories&amp;Peripherals</td>\n",
       "      <td>₹399,00</td>\n",
       "      <td>₹1.099,00</td>\n",
       "      <td>63,69%</td>\n",
       "      <td>R$ 23,96</td>\n",
       "      <td>4,5</td>\n",
       "      <td>24269</td>\n",
       "      <td>High Compatibility : Compatible With iPhone 12...</td>\n",
       "      <td>https://www.amazon.in/Wayona-Braided-WN3LG1-Sy...</td>\n",
       "      <td>Satisfied,Charging is really fast,Value for mo...</td>\n",
       "      <td>Looks durable Charging is fine tooNo complains...</td>\n",
       "    </tr>\n",
       "    <tr>\n",
       "      <th>1</th>\n",
       "      <td>B098NS6PVG</td>\n",
       "      <td>Ambrane Unbreakable 60W / 3A Fast Charging 1.5...</td>\n",
       "      <td>Computers&amp;Accessories|Accessories&amp;Peripherals|...</td>\n",
       "      <td>NaN</td>\n",
       "      <td>NaN</td>\n",
       "      <td>₹199,00</td>\n",
       "      <td>₹349,00</td>\n",
       "      <td>42,98%</td>\n",
       "      <td>R$ 11,95</td>\n",
       "      <td>4</td>\n",
       "      <td>43994</td>\n",
       "      <td>Compatible with all Type C enabled devices, be...</td>\n",
       "      <td>https://www.amazon.in/Ambrane-Unbreakable-Char...</td>\n",
       "      <td>NaN</td>\n",
       "      <td>NaN</td>\n",
       "    </tr>\n",
       "  </tbody>\n",
       "</table>\n",
       "</div>"
      ],
      "text/plain": [
       "   product_id                                       product_name  \\\n",
       "0  B07JW9H4J1  Wayona Nylon Braided USB to Lightning Fast Cha...   \n",
       "1  B098NS6PVG  Ambrane Unbreakable 60W / 3A Fast Charging 1.5...   \n",
       "\n",
       "                                            category         category_geral  \\\n",
       "0  Computers&Accessories|Accessories&Peripherals|...  Computers&Accessories   \n",
       "1  Computers&Accessories|Accessories&Peripherals|...                    NaN   \n",
       "\n",
       "               subcategory actual_price product_price percent  \\\n",
       "0  Accessories&Peripherals      ₹399,00     ₹1.099,00  63,69%   \n",
       "1                      NaN      ₹199,00       ₹349,00  42,98%   \n",
       "\n",
       "  actual_price_real rating  rating_count  \\\n",
       "0          R$ 23,96    4,5         24269   \n",
       "1          R$ 11,95      4         43994   \n",
       "\n",
       "                                       about_product  \\\n",
       "0  High Compatibility : Compatible With iPhone 12...   \n",
       "1  Compatible with all Type C enabled devices, be...   \n",
       "\n",
       "                                        product_link  \\\n",
       "0  https://www.amazon.in/Wayona-Braided-WN3LG1-Sy...   \n",
       "1  https://www.amazon.in/Ambrane-Unbreakable-Char...   \n",
       "\n",
       "                                              titulo  \\\n",
       "0  Satisfied,Charging is really fast,Value for mo...   \n",
       "1                                                NaN   \n",
       "\n",
       "                                              review  \n",
       "0  Looks durable Charging is fine tooNo complains...  \n",
       "1                                                NaN  "
      ]
     },
     "execution_count": 5,
     "metadata": {},
     "output_type": "execute_result"
    }
   ],
   "source": [
    "dados.head(2) #vem na forma de coluna"
   ]
  },
  {
   "cell_type": "markdown",
   "metadata": {},
   "source": [
    "#### dados.info()\n",
    "tras as informações do item selecionado"
   ]
  },
  {
   "cell_type": "code",
   "execution_count": 6,
   "metadata": {},
   "outputs": [
    {
     "name": "stdout",
     "output_type": "stream",
     "text": [
      "<class 'pandas.core.frame.DataFrame'>\n",
      "RangeIndex: 1465 entries, 0 to 1464\n",
      "Data columns (total 15 columns):\n",
      " #   Column             Non-Null Count  Dtype \n",
      "---  ------             --------------  ----- \n",
      " 0   product_id         1465 non-null   object\n",
      " 1   product_name       1465 non-null   object\n",
      " 2   category           1465 non-null   object\n",
      " 3   category_geral     1030 non-null   object\n",
      " 4   subcategory        1030 non-null   object\n",
      " 5   actual_price       1465 non-null   object\n",
      " 6   product_price      1465 non-null   object\n",
      " 7   percent            1465 non-null   object\n",
      " 8   actual_price_real  1465 non-null   object\n",
      " 9   rating             1465 non-null   object\n",
      " 10  rating_count       1465 non-null   int64 \n",
      " 11  about_product      1465 non-null   object\n",
      " 12  product_link       1465 non-null   object\n",
      " 13  titulo             1030 non-null   object\n",
      " 14  review             1030 non-null   object\n",
      "dtypes: int64(1), object(14)\n",
      "memory usage: 171.8+ KB\n"
     ]
    }
   ],
   "source": [
    "dados.info()"
   ]
  }
 ],
 "metadata": {
  "kernelspec": {
   "display_name": "Python 3",
   "language": "python",
   "name": "python3"
  },
  "language_info": {
   "codemirror_mode": {
    "name": "ipython",
    "version": 3
   },
   "file_extension": ".py",
   "mimetype": "text/x-python",
   "name": "python",
   "nbconvert_exporter": "python",
   "pygments_lexer": "ipython3",
   "version": "3.11.3"
  },
  "orig_nbformat": 4
 },
 "nbformat": 4,
 "nbformat_minor": 2
}
